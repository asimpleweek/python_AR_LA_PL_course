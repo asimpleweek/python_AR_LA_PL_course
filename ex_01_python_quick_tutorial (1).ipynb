{
 "cells": [
  {
   "cell_type": "code",
   "execution_count": 1,
   "id": "128f69fe-1d38-4ff7-aed2-956c1418a078",
   "metadata": {},
   "outputs": [
    {
     "name": "stdout",
     "output_type": "stream",
     "text": [
      "Killer Queen!\n"
     ]
    }
   ],
   "source": [
    "print('Killer Queen!') \n"
   ]
  },
  {
   "cell_type": "code",
   "execution_count": 3,
   "id": "8c0279ee-38f4-49bd-98d0-fd621a5db21d",
   "metadata": {},
   "outputs": [
    {
     "name": "stdout",
     "output_type": "stream",
     "text": [
      "Killer Queen!\n",
      "___________________________________________________\n",
      "凡事都有两面性！\n",
      "Every coin has two sides!\n"
     ]
    }
   ],
   "source": [
    "print(\"Killer Queen!\")\n",
    "print(\"_\"*51)\n",
    "print(\"凡事都有两面性！\")\n",
    "print(\"Every coin has two sides!\")\n"
   ]
  },
  {
   "cell_type": "code",
   "execution_count": 4,
   "id": "48469f0d-5093-4dbd-b99c-66ab54c7e6f2",
   "metadata": {},
   "outputs": [
    {
     "name": "stdout",
     "output_type": "stream",
     "text": [
      "加： 154\n",
      "减： 76\n",
      "乘： 268\n",
      "除： 33.0\n",
      "整除： 22\n",
      "余数： 1\n",
      "幂： 81\n"
     ]
    }
   ],
   "source": [
    "print(\"加：\",99+55) #打印简单的运算\n",
    "print(\"减：\",88-12)\n",
    "print(\"乘：\",67*4)\n",
    "print(\"除：\", 99/3)\n",
    "print(\"整除：\", 45//2)\n",
    "print(\"余数：\", 9%4)\n",
    "print(\"幂：\",9**2)\n"
   ]
  },
  {
   "cell_type": "code",
   "execution_count": 7,
   "id": "13fac211-b07e-47d5-a1ec-a2fa6f9be26d",
   "metadata": {},
   "outputs": [
    {
     "name": "stdout",
     "output_type": "stream",
     "text": [
      "monadic_equation= 17.0\n",
      "monadic_equation=17.00\n",
      "monadic_equation=17.00\n"
     ]
    }
   ],
   "source": [
    "x=6.0\n",
    "monadic_equation=3*x-1\n",
    "print(\"monadic_equation=\",monadic_equation)\n",
    "print(\"monadic_equation=%.2f\"%monadic_equation) #%字符串格式化方法\n",
    "print(\"monadic_equation={:.2f}\".format(monadic_equation)) #format()字符串格式化方法\n"
   ]
  },
  {
   "cell_type": "code",
   "execution_count": 8,
   "id": "f7b2c0bd-be95-4dc2-a55b-40f392c694c8",
   "metadata": {},
   "outputs": [
    {
     "name": "stdout",
     "output_type": "stream",
     "text": [
      "The longitude of the Shaanxi coordinate is 108.94, and the latitude is 34.261013.\n"
     ]
    }
   ],
   "source": [
    "city_name=\"Shaanxi\"\n",
    "coordinate_longitude=108.942292\n",
    "coordiante_latitude=34.261013\n",
    "print(\"The longitude of the Shaanxi coordinate is {lon:.2f}, and the latitude is {lat}.\".format(lon=coordinate_longitude,lat=coordiante_latitude))\n"
   ]
  },
  {
   "cell_type": "code",
   "execution_count": 9,
   "id": "94db612c-d640-403c-a298-16a981906c7e",
   "metadata": {},
   "outputs": [
    {
     "name": "stdout",
     "output_type": "stream",
     "text": [
      "func_2=3\n"
     ]
    }
   ],
   "source": [
    "x,y,b=3,7,9 #unpacking 序列解包。尝试，x,y,*z=0,1,2,3,4,5,6; x,y,*z=0,1; (x,y),(a,b)=(0,1),(2,3)\n",
    "func_2=3*x+2*y+b\n",
    "print(\"func_2={}\".format(x,y,b,func_2))\n"
   ]
  },
  {
   "cell_type": "code",
   "execution_count": 2,
   "id": "f33b3f1c-7ed3-4a57-8ee6-4ad4e7e116e6",
   "metadata": {},
   "outputs": [
    {
     "name": "stdout",
     "output_type": "stream",
     "text": [
      "The list length=15\n",
      "Maximum value=51\n",
      "Minimum value=9\n"
     ]
    }
   ],
   "source": [
    "lst_n=list(range(9,54,3)) #建立列表。range(start,stop,[,step])建立区间。\n",
    "print(\"The list length={}\".format(len(lst_n)))\n",
    "print(\"Maximum value={}\".format(max(lst_n)))\n",
    "print(\"Minimum value={}\".format(min(lst_n)))"
   ]
  },
  {
   "cell_type": "code",
   "execution_count": 8,
   "id": "ad035211-e995-468c-9e1e-9f6cdcb20b16",
   "metadata": {},
   "outputs": [
    {
     "name": "stdout",
     "output_type": "stream",
     "text": [
      "____________________________________________________________\n",
      "[4:8]->['þ', 'ÿ', 'Ā', 'ā']\n",
      "[-4:-1]->['Ğ', 'ğ', 'Ġ']\n",
      "[-4:-3]->['Ğ']\n",
      "[:4]->['ú', 'û', 'ü', 'ý']\n",
      "[:]->['ú', 'û', 'ü', 'ý', 'þ', 'ÿ', 'Ā', 'ā', 'Ă', 'ă', 'Ą', 'ą', 'Ć', 'ć', 'Ĉ', 'ĉ', 'Ċ', 'ċ', 'Č', 'č', 'Ď', 'ď', 'Đ', 'đ', 'Ē', 'ē', 'Ĕ', 'ĕ', 'Ė', 'ė', 'Ę', 'ę', 'Ě', 'ě', 'Ĝ', 'ĝ', 'Ğ', 'ğ', 'Ġ', 'ġ']\n"
     ]
    }
   ],
   "source": [
    "lst_s=list(map(chr,range(250,290)))\n",
    "print(\"_\"*60)\n",
    "print(\"[4:8]->{}\".format(lst_s[4:8]))\n",
    "print(\"[-4:-1]->{}\".format(lst_s[-4:-1]))\n",
    "print(\"[-4:-3]->{}\".format(lst_s[-4:-3]))\n",
    "print(\"[:4]->{}\".format(lst_s[:4]))\n",
    "print(\"[:]->{}\".format(lst_s[:]))\n"
   ]
  },
  {
   "cell_type": "code",
   "execution_count": 9,
   "id": "7b214601-33a5-45ba-a5ef-40e6f7e0a72c",
   "metadata": {},
   "outputs": [
    {
     "name": "stdout",
     "output_type": "stream",
     "text": [
      "['ú', 'û', 'ü', 'ý', 'þ', 'ÿ', 'Ā', 'ā', 'Ă', 'ă', 'Ą', 'ą', 'Ć', 'ć', 'Ĉ', 'ĉ', 'Ċ', 'ċ', 'Č', 'č', 'Ď', 'ď', 'Đ', 'đ', 'Ē', 'ē', 'Ĕ', 'ĕ', 'Ė', 'ė', 'Ę', 'ę', 'Ě', 'ě', 'Ĝ', 'ĝ', 'Ğ', 'ğ', 'Ġ', 'ġ']\n",
      "__________\n",
      "[0:6:2]->['ú', 'ü', 'þ']\n",
      "[::5]->['ú', 'ÿ', 'Ą', 'ĉ', 'Ď', 'ē', 'Ę', 'ĝ']\n",
      "[6:2:-1]->['Ā', 'ÿ', 'þ', 'ý']\n",
      "[21:3:-2]->['ď', 'č', 'ċ', 'ĉ', 'ć', 'ą', 'ă', 'ā', 'ÿ']\n",
      "[5::-2]->['ÿ', 'ý', 'û']\n",
      "[:7:-2]->['ġ', 'ğ', 'ĝ', 'ě', 'ę', 'ė', 'ĕ', 'ē', 'đ', 'ď', 'č', 'ċ', 'ĉ', 'ć', 'ą', 'ă']\n"
     ]
    }
   ],
   "source": [
    "print(lst_s)\n",
    "print(\"_\"*10)\n",
    "print(\"[0:6:2]->{}\".format(lst_s[0:6:2]))\n",
    "print(\"[::5]->{}\".format(lst_s[::5]))\n",
    "print(\"[6:2:-1]->{}\".format(lst_s[6:2:-1]))\n",
    "print(\"[21:3:-2]->{}\".format(lst_s[21:3:-2]))\n",
    "print(\"[5::-2]->{}\".format(lst_s[5::-2]))\n",
    "print(\"[:7:-2]->{}\".format(lst_s[:7:-2]))\n"
   ]
  },
  {
   "cell_type": "code",
   "execution_count": 13,
   "id": "baa68209-49ab-47d3-bf03-f2452da79e4d",
   "metadata": {},
   "outputs": [
    {
     "name": "stdout",
     "output_type": "stream",
     "text": [
      "['ú', 'û', 'ü', 'ý', 'þ', 199, 'Ā', 'ā', 'Ă', 'ă', 'Ą', 'ą', 'Ć', 'ć', 'Ĉ', 'ĉ', 'Ċ', 'ċ', 'Č', 'č', 'Ď', 'ď', 'Đ', 'đ', 'Ē', 'ē', 'Ĕ', 'ĕ', 'Ė', 'ė', 'Ę', 'ę', 'Ě', 'ě', 'Ĝ', 'ĝ', 'Ğ', 'ğ', 'Ġ', 'ġ']\n",
      "___________________________________\n",
      "lst_s[5]=199->['ú', 'û', 'ü', 'ý', 'þ', 199, 'Ā', 'ā', 'Ă', 'ă', 'Ą', 'ą', 'Ć', 'ć', 'Ĉ', 'ĉ', 'Ċ', 'ċ', 'Č', 'č', 'Ď', 'ď', 'Đ', 'đ', 'Ē', 'ē', 'Ĕ', 'ĕ', 'Ė', 'ė', 'Ę', 'ę', 'Ě', 'ě', 'Ĝ', 'ĝ', 'Ğ', 'ğ', 'Ġ', 'ġ']\n",
      "lst_s+[None]*7->['ú', 'û', 'ü', 'ý', 'þ', 199, 'Ā', 'ā', 'Ă', 'ă', 'Ą', 'ą', 'Ć', 'ć', 'Ĉ', 'ĉ', 'Ċ', 'ċ', 'Č', 'č', 'Ď', 'ď', 'Đ', 'đ', 'Ē', 'ē', 'Ĕ', 'ĕ', 'Ė', 'ė', 'Ę', 'ę', 'Ě', 'ě', 'Ĝ', 'ĝ', 'Ğ', 'ğ', 'Ġ', 'ġ', None, None, None, None, None, None, None]\n",
      "lst_none[11]=2015->['ú', 'û', 'ü', 'ý', 'þ', 199, 'Ā', 'ā', 'Ă', 'ă', 'Ą', 'ą', 'Ć', 2015, 'Ĉ', 'ĉ', 'Ċ', 'ċ', 'Č', 'č', 'Ď', 'ď', 'Đ', 'đ', 'Ē', 'ē', 'Ĕ', 'ĕ', 'Ė', 'ė', 'Ę', 'ę', 'Ě', 'ě', 'Ĝ', 'ĝ', 'Ğ', 'ğ', 'Ġ', 'ġ', None, None, None, None, None, None, None]\n",
      "lst_none[-4:-2]=list(range(90,100,2))->['ú', 'û', 'ü', 'ý', 'þ', 199, 'Ā', 'ā', 'Ă', 'ă', 'Ą', 'ą', 'Ć', 2015, 'Ĉ', 'ĉ', 'Ċ', 'ċ', 'Č', 'č', 'Ď', 'ď', 'Đ', 'đ', 'Ē', 'ē', 'Ĕ', 'ĕ', 'Ė', 'ė', 'Ę', 'ę', 'Ě', 'ě', 'Ĝ', 'ĝ', 'Ğ', 'ğ', 'Ġ', 'ġ', None, 100, 102, None, None, None]\n",
      "lst_none[1:3]=[0,0,5,12]->['ú', 0, 0, 0, 12, 'û', 'ü', 'ý', 'þ', 199, 'Ā', 'ā', 'Ă', 'ă', 'Ą', 'ą', 'Ć', 2015, 'Ĉ', 'ĉ', 'Ċ', 'ċ', 'Č', 'č', 'Ď', 'ď', 'Đ', 'đ', 'Ē', 'ē', 'Ĕ', 'ĕ', 'Ė', 'ė', 'Ę', 'ę', 'Ě', 'ě', 'Ĝ', 'ĝ', 'Ğ', 'ğ', 'Ġ', 'ġ', None, 100, 102, None, None, None]\n",
      "del lst_none[-3:]->['ú', 0, 0, 0, 12, 'û', 'ü', 'ý', 'þ', 199, 'Ā', 'ā', 'Ă', 'ă', 'Ą', 'ą', 'Ć', 2015, 'Ĉ', 'ĉ', 'Ċ', 'ċ', 'Č', 'č', 'Ď', 'ď', 'Đ', 'đ', 'Ē', 'ē', 'Ĕ', 'ĕ', 'Ė', 'ė', 'Ę', 'ę', 'Ě', 'ě', 'Ĝ', 'ĝ', 'Ğ', 'ğ', 'Ġ', 'ġ', None, 100, 102, None]\n"
     ]
    }
   ],
   "source": [
    "print(lst_s)\n",
    "print(\"_\"*35)\n",
    "lst_s[5]=199 #元素赋值\n",
    "print(\"lst_s[5]=199->{}\".format(lst_s))\n",
    "lst_none=lst_s+[None]*7\n",
    "print(\"lst_s+[None]*7->{}\".format(lst_none))\n",
    "lst_none[13]=2015\n",
    "print(\"lst_none[11]=2015->{}\".format(lst_none))\n",
    "lst_none[-6:-3]=list(range(100,104,2)) #分片赋值\n",
    "print(\"lst_none[-4:-2]=list(range(90,100,2))->{}\".format(lst_none))\n",
    "lst_none[1:1]=[0,0,0,12]\n",
    "print(\"lst_none[1:3]=[0,0,5,12]->{}\".format(lst_none))\n",
    "del lst_none[-2:] #删除元素\n",
    "print(\"del lst_none[-3:]->{}\".format(lst_none))\n"
   ]
  },
  {
   "cell_type": "code",
   "execution_count": 16,
   "id": "98141f94-e70c-413b-b86c-cb2b7e3d1b8e",
   "metadata": {},
   "outputs": [
    {
     "name": "stdout",
     "output_type": "stream",
     "text": [
      "['F', 'G', 'H', 'I', 'J', 'K', 'L', 'M', 'N', 'O', 'P', 'Q', 'R', 'S', 'T', 'U', 'V', 'W', 'X', 'Y', 'Z', '[', '\\\\', ']', '^', '_', '`', 'a', 'b', 'c', 'd', 'e', 'f', 'g', 'h']\n",
      "______________________________________________\n",
      "lst_s_2.append(89)->['F', 'G', 'H', 'I', 'J', 'K', 'L', 'M', 'N', 'O', 'P', 'Q', 'R', 'S', 'T', 'U', 'V', 'W', 'X', 'Y', 'Z', '[', '\\\\', ']', '^', '_', '`', 'a', 'b', 'c', 'd', 'e', 'f', 'g', 'h', 89]\n",
      "lst_s_2.append(list(range(45,66,7)))->['F', 'G', 'H', 'I', 'J', 'K', 'L', 'M', 'N', 'O', 'P', 'Q', 'R', 'S', 'T', 'U', 'V', 'W', 'X', 'Y', 'Z', '[', '\\\\', ']', '^', '_', '`', 'a', 'b', 'c', 'd', 'e', 'f', 'g', 'h', 89, [45, 52, 59]]\n",
      "lst_s_2.extend(lst_spechars)->['F', 'G', 'H', 'I', 'J', 'K', 'L', 'M', 'N', 'O', 'P', 'Q', 'R', 'S', 'T', 'U', 'V', 'W', 'X', 'Y', 'Z', '[', '\\\\', ']', '^', '_', '`', 'a', 'b', 'c', 'd', 'e', 'f', 'g', 'h', 89, [45, 52, 59], '*', ')', '*']\n",
      "lst_s_2.count('*')=2\n",
      "lst_s_2.index('e')=31\n",
      "lst_s_2.insert(2,[900,960,1350])->['F', 'G', [900, 960, 1350], 'H', 'I', 'J', 'K', 'L', 'M', 'N', 'O', 'P', 'Q', 'R', 'S', 'T', 'U', 'V', 'W', 'X', 'Y', 'Z', '[', '\\\\', ']', '^', '_', '`', 'a', 'b', 'c', 'd', 'e', 'f', 'g', 'h', 89, [45, 52, 59], '*', ')', '*']\n",
      "lst_s_2.pop(5)_popup->J\n",
      "lst_s_2.pop(5)_retention->['F', 'G', [900, 960, 1350], 'H', 'I', 'K', 'L', 'M', 'N', 'O', 'P', 'Q', 'R', 'S', 'T', 'U', 'V', 'W', 'X', 'Y', 'Z', '[', '\\\\', ']', '^', '_', '`', 'a', 'b', 'c', 'd', 'e', 'f', 'g', 'h', 89, [45, 52, 59], '*', ')', '*']\n",
      "lst_s_2.remove('*')_retention->['F', 'G', [900, 960, 1350], 'H', 'I', 'K', 'L', 'M', 'N', 'O', 'P', 'Q', 'R', 'S', 'T', 'U', 'V', 'W', 'X', 'Y', 'Z', '[', '\\\\', ']', '^', '_', '`', 'a', 'b', 'c', 'd', 'e', 'f', 'g', 'h', 89, [45, 52, 59], ')', '*']\n",
      "list_n_2.sort()->[3, 7, 8, 36, 63]\n"
     ]
    }
   ],
   "source": [
    "lst_s_2=list(map(chr,range(70,105)))\n",
    "print(lst_s_2)\n",
    "print(\"_\"*46)\n",
    "lst_s_2.append(89)\n",
    "print(\"lst_s_2.append(89)->{}\".format(lst_s_2))\n",
    "lst_s_2.append(list(range(45,66,7)))\n",
    "print(\"lst_s_2.append(list(range(45,66,7)))->{}\".format(lst_s_2))\n",
    "lst_spechars=['*',')','*']\n",
    "lst_s_2.extend(lst_spechars)\n",
    "print(\"lst_s_2.extend(lst_spechars)->{}\".format(lst_s_2))\n",
    "print(\"lst_s_2.count('*')={}\".format(lst_s_2.count('*')))\n",
    "print(\"lst_s_2.index('e')={}\".format(lst_s_2.index('e')))\n",
    "lst_s_2.insert(2,[900,960,1350])\n",
    "print(\"lst_s_2.insert(2,[900,960,1350])->{}\".format(lst_s_2))\n",
    "print(\"lst_s_2.pop(5)_popup->{}\".format(lst_s_2.pop(5)))\n",
    "print(\"lst_s_2.pop(5)_retention->{}\".format(lst_s_2))\n",
    "lst_s_2.remove('*')\n",
    "print(\"lst_s_2.remove('*')_retention->{}\".format(lst_s_2))\n",
    "list_n_2=[3,36,7,63,8]\n",
    "list_n_2.sort()\n",
    "print(\"list_n_2.sort()->{}\".format(list_n_2))\n"
   ]
  },
  {
   "cell_type": "code",
   "execution_count": 17,
   "id": "92a03a47-69b4-43f8-b391-3b020675e643",
   "metadata": {},
   "outputs": [
    {
     "name": "stdout",
     "output_type": "stream",
     "text": [
      "tuple_1=2,3,7,->(2, 3, 7)\n",
      "3*(17*5,)->(85, 85, 85)\n",
      "tuple((3,7,9))->(3, 7, 9)\n",
      "tuple([3,7,9])->(3, 7, 9)\n"
     ]
    }
   ],
   "source": [
    "   tuple_1=2,3,7,\n",
    "print(\"tuple_1=2,3,7,->{}\".format(tuple_1))\n",
    "print(\"3*(17*5,)->{}\".format(3*(17*5,)))\n",
    "print(\"tuple((3,7,9))->{}\".format(tuple((3,7,9)))) #用()\n",
    "print(\"tuple([3,7,9])->{}\".format(tuple([3,7,9]))) #用[]\n"
   ]
  },
  {
   "cell_type": "code",
   "execution_count": 18,
   "id": "77484bbe-c504-47f3-8bd9-28a36d2b3e11",
   "metadata": {},
   "outputs": [
    {
     "name": "stdout",
     "output_type": "stream",
     "text": [
      "items->[(0, [0, 1, 2, 3, 4, 5]), (1, [[192, 220, 203]]), (2, 'python')]\n",
      "dic=dict(items)->{0: [0, 1, 2, 3, 4, 5], 1: [[192, 220, 203]], 2: 'python'}\n",
      "dic[1]->[[192, 220, 203]]\n"
     ]
    }
   ],
   "source": [
    "import random\n",
    "items=[(0,[i for i in range(6)]),(1,[random.sample(list(range(150,300,1)),3)]),(2,'python')] #[i for i in range(6)] 为列表推导式 list comprehension/derivation\n",
    "print(\"items->{}\".format(items))\n",
    "dic=dict(items)\n",
    "print(\"dic=dict(items)->{}\".format(dic))\n",
    "print(\"dic[1]->{}\".format(dic[1]))\n"
   ]
  },
  {
   "cell_type": "code",
   "execution_count": 19,
   "id": "6a0a5d2a-d245-402b-ae87-b2087fc61632",
   "metadata": {},
   "outputs": [
    {
     "name": "stdout",
     "output_type": "stream",
     "text": [
      "len(dic)->3\n",
      "dic[5]=(random.random(),random.uniform(250,290))->{0: [0, 1, 2, 3, 4, 5], 1: [[192, 220, 203]], 2: 'python', 5: (0.8386363007776579, 254.62184213291937)}\n",
      "del dic[1]->{0: [0, 1, 2, 3, 4, 5], 2: 'python', 5: (0.8386363007776579, 254.62184213291937)}\n",
      "3 in dic->False\n",
      "7 in dic->False\n",
      "dic.keys()->dict_keys([0, 2, 5])\n",
      "dic.values()->dict_values([[0, 1, 2, 3, 4, 5], 'python', (0.8386363007776579, 254.62184213291937)])\n",
      "dic.items()->dict_items([(0, [0, 1, 2, 3, 4, 5]), (2, 'python'), (5, (0.8386363007776579, 254.62184213291937))])\n",
      "________________________________________\n",
      "list(dic.keys())->[0, 2, 5]\n"
     ]
    }
   ],
   "source": [
    "print(\"len(dic)->{}\".format(len(dic)))\n",
    "dic[5]=(random.random(),random.uniform(250,290))\n",
    "print(\"dic[5]=(random.random(),random.uniform(250,290))->{}\".format(dic))\n",
    "del dic[1]\n",
    "print(\"del dic[1]->{}\".format(dic))\n",
    "print(\"3 in dic->{}\".format(3 in dic))\n",
    "print(\"7 in dic->{}\".format(7 in dic))\n",
    "print(\"dic.keys()->{}\".format(dic.keys())) #应该放在字典的方法一节里\n",
    "print(\"dic.values()->{}\".format(dic.values()))\n",
    "print(\"dic.items()->{}\".format(dic.items()))\n",
    "print(\"_\"*40)\n",
    "print(\"list(dic.keys())->{}\".format(list(dic.keys())))\n"
   ]
  },
  {
   "cell_type": "code",
   "execution_count": 27,
   "id": "40703d23-8aba-4b5d-8973-684c774982ac",
   "metadata": {},
   "outputs": [
    {
     "name": "stdout",
     "output_type": "stream",
     "text": [
      "lst_A=[6, 9, 12, 15, 18],lst_B=[100, 115, 130, 145]\n",
      "dic_2={0: [6, 9, 12, 15, 18], 1: [100, 115, 130, 145]}\n",
      "__________________________________________________\n",
      "dic_assignment={0: [6, 9, 12, 15, 18], 1: [100, 115, 130, 145]}\n",
      "dic_2.clear()->{}\n",
      "dic_assignment={}\n",
      "dic_2[5]=list(range(1,9,2))->{5: [1, 3, 5, 7]}\n",
      "dic_copy=dic_2.copy()->{5: [1, 3, 5, 7]}\n",
      "dic_2[8]=[5,7]->{5: [1, 3, 5, 7], 8: [5, 7]}\n",
      "dic_copy={5: [1, 3, 5, 7]}\n",
      "dic_copy[5].remove(5)->{5: [1, 3, 7]}\n",
      "dic_copy.setdefault(6,[77,99])->{5: [1, 3, 7], 6: [77, 99]}\n",
      "dic_2.pop(5)->{8: [5, 7]}\n",
      "dic_update={8: [5, 7, 6, 3, 2], 9: [3, 2, 33, 55, 66]}\n",
      "dic_2.update(dic_update->{8: [5, 7, 6, 3, 2], 9: [3, 2, 33, 55, 66]}\n",
      "dic_2.get(9)->[3, 2, 33, 55, 66]\n",
      "dic_2.popitem()->{8: [5, 7, 6, 3, 2]}\n",
      "dic_3={}.fromkeys([0,1,2,3,4,'A'])->{0: None, 1: None, 2: None, 3: None, 4: None, 'A': None}\n"
     ]
    }
   ],
   "source": [
    "lst_A=list(range(6,20,3))\n",
    "lst_B=list(range(100,150,15))\n",
    "print(\"lst_A={},lst_B={}\".format(lst_A,lst_B))\n",
    "dic_2={0:lst_A,1:lst_B}\n",
    "print(\"dic_2={}\".format(dic_2))\n",
    "print(\"_\"*50)\n",
    "dic_assignment=dic_2\n",
    "print(\"dic_assignment={}\".format(dic_assignment))\n",
    "dic_2.clear()\n",
    "print(\"dic_2.clear()->{}\".format(dic_2))\n",
    "print(\"dic_assignment={}\".format(dic_assignment))\n",
    "dic_2[5]=list(range(1,9,2))\n",
    "print(\"dic_2[5]=list(range(1,9,2))->{}\".format(dic_2))\n",
    "dic_copy=dic_2.copy()\n",
    "print(\"dic_copy=dic_2.copy()->{}\".format(dic_copy))\n",
    "dic_2[8]=[5,7]\n",
    "print(\"dic_2[8]=[5,7]->{}\".format(dic_2))\n",
    "print(\"dic_copy={}\".format(dic_copy))\n",
    "dic_copy[5].remove(5)\n",
    "print(\"dic_copy[5].remove(5)->{}\".format(dic_copy))\n",
    "dic_copy.setdefault(6,[77,99]) #返回指定键的值，如果不存在该键，则字典增加新的键/值对\n",
    "print(\"dic_copy.setdefault(6,[77,99])->{}\".format(dic_copy))\n",
    "dic_2.pop(5) #移除指定键/值，并返回该值\n",
    "print(\"dic_2.pop(5)->{}\".format(dic_2))\n",
    "dic_update={8:[5,7,6,3,2],9:[3,2,33,55,66]}\n",
    "print(\"dic_update={}\".format(dic_update))\n",
    "dic_2.update(dic_update) #更新字典\n",
    "print(\"dic_2.update(dic_update->{}\".format(dic_2))\n",
    "print(\"dic_2.get(9)->{}\".format(dic_2.get(9)))\n",
    "dic_2.popitem() #随即弹出一对键/值，并在该字典中移除\n",
    "print(\"dic_2.popitem()->{}\".format(dic_2))\n",
    "\n",
    "dic_3={}.fromkeys([0,1,2,3,4,'A']) #给定键，建立值为空的字典\n",
    "print(\"dic_3={}\"+\".fromkeys([0,1,2,3,4,'A'])->{}\".format(dic_3)) #找下escape characters 脱字符\n"
   ]
  },
  {
   "cell_type": "code",
   "execution_count": 28,
   "id": "f3308fe9-7dd2-4384-b77d-a8c086c3fd00",
   "metadata": {},
   "outputs": [
    {
     "name": "stdout",
     "output_type": "stream",
     "text": [
      "lst_s_3=list(\"killer queen!\")->['K', 'i', 'l', 'l', 'e', 'r', ' ', 'Q', 'u', 'e', 'e', 'n', '!']\n",
      "\"Killer\"+\"Queen!\"->Killer Queen!\n",
      "\"+\".join(str(123456))->1+2+3+4+5+6\n",
      "len(\"Killer Queen!\")->13\n",
      "coordinates.split(\",\")->['120.25489', '30.250338', '9.7']\n",
      "eval(coordinates)->(120.25489, 30.250338, 9.7)\n",
      "\"Killer Queen!\".lower()->killer queen!\n",
      "\"Killer Queen!\".upper()->KILLER QUEEN!\n",
      "\"Killer Queen!\"[6:]-> Queen!\n",
      "\"    Killer Queen!    \".strip()->Killer Queen!\n",
      "\"Killer Queen!\".replace(\"Python\",\"Grasshopper\")->Killer Grasshopper!\n",
      "killer_lst.sort()>[' ', '!', 'K', 'Q', 'e', 'e', 'e', 'i', 'l', 'l', 'n', 'r', 'u']\n",
      "\"Killer Queen!\".find(\"Py\")->-1\n"
     ]
    }
   ],
   "source": [
    "lst_s_3=list(\"Killer Queen!\")\n",
    "print(\"lst_s_3=list(\\\"killer queen!\\\")->{}\".format(lst_s_3)) #\"\\\" escape character\n",
    "print(\"\\\"Killer\\\"+\\\"Queen!\\\"->{}\".format(\"Killer\"+\" Queen!\"))\n",
    "print(\"\\\"+\\\".join(str(123456))->{}\".format(\"+\".join(str(123456))))\n",
    "print(\"len(\\\"Killer Queen!\\\")->{}\".format(len(\"Killer Queen!\")))\n",
    "coordinates=\"120.25489,30.250338,9.7\"\n",
    "print(\"coordinates.split(\\\",\\\")->{}\".format(coordinates.split(\",\")))\n",
    "print(\"eval(coordinates)->{}\".format(eval(coordinates))) #通常用eval()方法将字符串，转换为对应数值形式；\n",
    "print(\"\\\"Killer Queen!\\\".lower()->{}\".format(\"Killer Queen!\".lower()))\n",
    "print(\"\\\"Killer Queen!\\\".upper()->{}\".format(\"Killer Queen!\".upper()))\n",
    "print(\"\\\"Killer Queen!\\\"[6:]->{}\".format(\"Killer Queen!\"[6:]))\n",
    "print(\"\\\"    Killer Queen!    \\\".strip()->{}\".format(\"    Killer Queen!    \".strip()))\n",
    "print(\"\\\"Killer Queen!\\\".replace(\\\"Python\\\",\\\"Grasshopper\\\")->{}\".format(\"Killer Queen!\".replace(\"Queen\",\"Grasshopper\")))\n",
    "hello_lst=list(\"Killer Queen!\")\n",
    "hello_lst.sort()\n",
    "print(\"killer_lst.sort()>{}\".format(hello_lst))\n",
    "print(\"\\\"Killer Queen!\\\".find(\\\"Py\\\")->{}\".format(\"Killer Queen!\".find(\"Py\")))\n"
   ]
  },
  {
   "cell_type": "code",
   "execution_count": 30,
   "id": "d3319316-fb97-4a97-a58a-1040ec0a78f7",
   "metadata": {},
   "outputs": [
    {
     "name": "stdout",
     "output_type": "stream",
     "text": [
      "new_str=format_str % values->Killer,Queen and God!\n",
      "new_str_2=format_str_2 % (pi,3.1415926)->Pi with three decimals:3.142,and enter a value with percent sign:3.14 %\n"
     ]
    }
   ],
   "source": [
    "format_str=\"Killer,%s and %s!\"\n",
    "values=(\"Queen\",\"God\")\n",
    "new_str=format_str % values\n",
    "print(\"new_str=format_str % values->{}\".format(new_str))\n",
    "\n",
    "format_str_2=\"Pi with three decimals:%.3f,and enter a value with percent sign:%.2f %%\" #如果字符串里包含实际的%，则通过%%即两个百分号进行转义\n",
    "\n",
    "from math import pi\n",
    "new_str_2=format_str_2 % (pi,3.1415926)\n",
    "print(\"new_str_2=format_str_2 % (pi,3.1415926)->{}\".format(new_str_2))\n"
   ]
  },
  {
   "cell_type": "code",
   "execution_count": 31,
   "id": "94ff938d-25ee-4ca2-997f-ded118403fa6",
   "metadata": {},
   "outputs": [
    {
     "name": "stdout",
     "output_type": "stream",
     "text": [
      "  3.141593,      3.14,3.14,Kille,Kill,44,2c,3.141593\n"
     ]
    }
   ],
   "source": [
    "format_str_3=\"%10f,%10.2f,%.2f,%.5s,%.*s,%d,%x,%f\"\n",
    "new_str_3=format_str_3%(pi,pi,pi,\"Killer Queen!\",4,\"Killer Queen!\",44,44,pi)\n",
    "print(\"{}\".format(new_str_3))\n"
   ]
  },
  {
   "cell_type": "code",
   "execution_count": 32,
   "id": "9a7f6f7d-7169-43be-8572-6007e76a1b9b",
   "metadata": {},
   "outputs": [
    {
     "name": "stdout",
     "output_type": "stream",
     "text": [
      "s_1=s_template_1.substitute(x=\"Queen\")->Queen,funny,Queen!\n",
      "s_2=s_template_2.substitute(x=\"py\")->python is amazing!\n",
      "substitute_dict={'x': 'Queen', 'y': 'King'}\n",
      "s_3=s_template_3.substitute(substitute_dict)->Queen and King are both amazing!\n"
     ]
    }
   ],
   "source": [
    "from string import Template\n",
    "s_template_1=Template(\"$x,funny,$x!\")\n",
    "s_1=s_template_1.substitute(x=\"Queen\")\n",
    "print(\"s_1=s_template_1.substitute(x=\\\"Queen\\\")->{}\".format(s_1))\n",
    "s_template_2=Template(\"${x}thon is amazing!\")\n",
    "s_2=s_template_2.substitute(x=\"py\")\n",
    "print(\"s_2=s_template_2.substitute(x=\\\"py\\\")->{}\".format(s_2))\n",
    "s_template_3=Template(\"$x and $y are both amazing!\")\n",
    "substitute_dict=dict([('x','Queen'),('y','King')])\n",
    "print(\"substitute_dict={}\".format(substitute_dict))\n",
    "s_3=s_template_3.substitute(substitute_dict)\n",
    "print(\"s_3=s_template_3.substitute(substitute_dict)->{}\".format(s_3))\n"
   ]
  },
  {
   "cell_type": "code",
   "execution_count": 1,
   "id": "cf4443ca-d1bc-4c14-a92b-04e55ea67120",
   "metadata": {},
   "outputs": [
    {
     "name": "stdout",
     "output_type": "stream",
     "text": [
      "re.findall(pattern_1,text)->['Queen']\n",
      "re.findall(pattern_2,text)->[]\n"
     ]
    }
   ],
   "source": [
    "import re\n",
    "pattern_1='Queen'\n",
    "text=\"Killer Queen!\"\n",
    "print(\"re.findall(pattern_1,text)->{}\".format(re.findall(pattern_1,text)))\n",
    "pattern_2='queen'\n",
    "print(\"re.findall(pattern_2,text)->{}\".format(re.findall(pattern_2,text)))\n"
   ]
  },
  {
   "cell_type": "code",
   "execution_count": 5,
   "id": "ce066348-9d74-4231-b1d7-04b71d7f1fec",
   "metadata": {},
   "outputs": [
    {
     "name": "stdout",
     "output_type": "stream",
     "text": [
      "re.findall('.ueen',' Killer Queen!')->['Queen']\n",
      "re.findall('.ueen','Killer kingQueen!')->['Queen']\n",
      "re.findall('.ueen','Killer king!')->[]\n",
      "re.findall('.ueen','Killer queen!')->['queen']\n"
     ]
    }
   ],
   "source": [
    "print(\"re.findall('.ueen',' Killer Queen!')->{}\".format(re.findall('.ueen','Killer Queen!')))\n",
    "print(\"re.findall('.ueen','Killer kingQueen!')->{}\".format(re.findall('.ueen','Killer kingQueen!')))\n",
    "print(\"re.findall('.ueen','Killer king!')->{}\".format(re.findall('.ueen','Killer king!')))\n",
    "print(\"re.findall('.ueen','Killer queen!')->{}\".format(re.findall('.ueen','Killer queen!')))\n"
   ]
  },
  {
   "cell_type": "code",
   "execution_count": 7,
   "id": "1c533a5c-b684-4347-a986-f2e80bf4a375",
   "metadata": {},
   "outputs": [
    {
     "name": "stdout",
     "output_type": "stream",
     "text": [
      "re.findall(r'w?XAUAT\\.cn,w+\\.XAUAT\\.cn','XAUAT.cn,www.XAUAT.cn')->['XAUAT.cn,www.XAUAT.cn']\n",
      "re.findall(r'w{2}\\.XAUAT\\.cn','www.XAUAT.cn')->['ww.XAUAT.cn']\n",
      "re.findall(r'w{1,3}\\.XAUAT\\.cn','www.XAUAT.cn')->['www.XAUAT.cn']\n"
     ]
    }
   ],
   "source": [
    "print(\"re.findall(r'w?XAUAT\\.cn,w+\\.XAUAT\\.cn','XAUAT.cn,www.XAUAT.cn')->{}\".format(re.findall(r'w?XAUAT\\.cn,w+\\.XAUAT\\.cn','XAUAT.cn,www.XAUAT.cn')))\n",
    "print(\"re.findall(r'w{2}\"+\"\\.XAUAT\\.cn','www.XAUAT.cn')->{}\".format(re.findall(r'w{2}\\.XAUAT\\.cn','www.XAUAT.cn')))\n",
    "print(\"re.findall(r'w{1,3}\"+\"\\.XAUAT\\.cn','www.XAUAT.cn')->{}\".format(re.findall(r'w{1,3}\\.XAUAT\\.cn','www.XAUAT.cn')))"
   ]
  },
  {
   "cell_type": "code",
   "execution_count": 9,
   "id": "0da96ec7-4ac2-488b-b41f-fb8efe10be2d",
   "metadata": {},
   "outputs": [
    {
     "name": "stdout",
     "output_type": "stream",
     "text": [
      "re.findall('[Qu]*een!','Killer Queen!')->['Queen!']\n",
      "re.findall('[Qu]*een!','Killer Qeen!')->['Qeen!']\n",
      "re.findall('[Qu]*een!','Killer ueen!')->['ueen!']\n",
      "re.findall('[Qu]*een!','Killer ueen!')->['een!']\n"
     ]
    }
   ],
   "source": [
    "print(\"re.findall('[Qu]*een!','Killer Queen!')->{}\".format(re.findall('[Qu]*een!','Killer Queen!')))\n",
    "print(\"re.findall('[Qu]*een!','Killer Qeen!')->{}\".format(re.findall('[Qu]*een!','Killer Qeen!')))\n",
    "print(\"re.findall('[Qu]*een!','Killer ueen!')->{}\".format(re.findall('[Qu]*een!','Killer ueen!')))\n",
    "print(\"re.findall('[Qu]*een!','Killer ueen!')->{}\".format(re.findall('[Qu]*een!','Killer een!')))\n"
   ]
  },
  {
   "cell_type": "code",
   "execution_count": 10,
   "id": "56543b81-2789-421f-aec7-cfc2053609be",
   "metadata": {},
   "outputs": [
    {
     "name": "stdout",
     "output_type": "stream",
     "text": [
      "re.findall('queen|king','queen')->['queen']\n",
      "re.findall('queen|king','king')->['king']\n",
      "re.findall('queen|king','king and queen')->['king', 'queen']\n"
     ]
    }
   ],
   "source": [
    "print(\"re.findall('queen|king','queen')->{}\".format(re.findall('queen|king','queen')))\n",
    "print(\"re.findall('queen|king','king')->{}\".format(re.findall('queen|king','king')))\n",
    "print(\"re.findall('queen|king','king and queen')->{}\".format(re.findall('queen|king','king and queen')))\n"
   ]
  },
  {
   "cell_type": "code",
   "execution_count": 11,
   "id": "b6fefdbf-2c9f-4403-9de1-5d6ec8de4040",
   "metadata": {},
   "outputs": [
    {
     "name": "stdout",
     "output_type": "stream",
     "text": [
      "re.findall('\\d','number=5')->['5']\n",
      "re.findall('\\D','number=8')->['n', 'u', 'm', 'b', 'e', 'r', '=']\n",
      "re.findall('[^0-9]','number=8')->['n', 'u', 'm', 'b', 'e', 'r', '=']\n"
     ]
    }
   ],
   "source": [
    "print(\"re.findall('\\d','number=5')->{}\".format(re.findall('\\d','number=5')))\n",
    "print(\"re.findall('\\D','number=8')->{}\".format(re.findall('\\D','number=8')))\n",
    "print(\"re.findall('[^0-9]','number=8')->{}\".format(re.findall('[^0-9]','number=8')))\n"
   ]
  },
  {
   "cell_type": "code",
   "execution_count": 12,
   "id": "3ccad3ff-4916-4dc6-b74c-69dcea49ab17",
   "metadata": {},
   "outputs": [
    {
     "name": "stdout",
     "output_type": "stream",
     "text": [
      "re.findall('[a-z]','queen')->['q', 'u', 'e', 'e', 'n']\n",
      "re.search('[a-z]+','queen')-><re.Match object; span=(0, 5), match='queen'>\n",
      "re.search('[a-z]+','queen')->found it!\n",
      "re.split(',','Killer,,,,,,queen!')->['Killer', '', '', '', '', '', 'queen!']\n",
      "re.sub('Queen','King','Killer Queen!')->Killer King!\n",
      "pattern_compile.findall('Killer,,,,,,Queen!')->['Queen']\n"
     ]
    }
   ],
   "source": [
    "print(\"re.findall('[a-z]','queen')->{}\".format(re.findall('[a-z]','queen-3.0')))\n",
    "print(\"re.search('[a-z]+','queen')->{}\".format(re.search('[a-z]+','queen')))\n",
    "if re.search('[a-z]+','queen'):\n",
    "    print(\"re.search('[a-z]+','queen')->found it!\")\n",
    "print(\"re.split(',','Killer,,,,,,queen!')->{}\".format(re.split(',','Killer,,,,,,queen!')))\n",
    "print(\"re.sub('Queen','King','Killer Queen!')->{}\".format(re.sub('Queen','King','Killer Queen!')))\n",
    "\n",
    "pattern_compile=re.compile('Queen')\n",
    "print(\"pattern_compile.findall('Killer,,,,,,Queen!')->{}\".format(pattern_compile.findall('Killer,,,,,,Queen!')))\n",
    "\n",
    "if re.match('p','queen'):\n",
    "    print(\"re.match('p','queen')->found it!\")\n"
   ]
  },
  {
   "cell_type": "code",
   "execution_count": 15,
   "id": "47b44703-985d-454f-ba25-240632953b3e",
   "metadata": {},
   "outputs": [
    {
     "name": "stdout",
     "output_type": "stream",
     "text": [
      "'queen'.find('python')->0\n",
      "'queen'.find('ueen')->1\n",
      "'queen'.find('a')->-1\n",
      "'q' in 'queen'->True\n"
     ]
    }
   ],
   "source": [
    "print(\"\\'queen\\'.find(\\'python\\')->{}\".format('queen'.find('queen')))\n",
    "print(\"\\'queen\\'.find(\\'ueen\\')->{}\".format('queen'.find('ueen')))\n",
    "print(\"\\'queen\\'.find(\\'a\\')->{}\".format('queen'.find('a')))\n",
    "print(\"\\'q\\' in \\'queen\\'->{}\".format('q' in 'queen'))\n"
   ]
  },
  {
   "cell_type": "code",
   "execution_count": 16,
   "id": "d7ba46c4-db8c-439c-a9c7-ab01d7bc9429",
   "metadata": {},
   "outputs": [
    {
     "name": "stdout",
     "output_type": "stream",
     "text": [
      "'Killer,,,,,,Queen!'.split(',')->['Killer', '', '', '', '', '', 'Queen!']\n",
      "'Killer Queen!'.replace('Queen','King')->Killer King!\n"
     ]
    }
   ],
   "source": [
    "print(\"\\'Killer,,,,,,Queen!\\'.split(',')->{}\".format( 'Killer,,,,,,Queen!'.split(',')))\n",
    "print(\"\\'Killer Queen!\\'.replace(\\'Queen\\',\\'King\\')->{}\".format( 'Killer Queen!'.replace('Queen','King')))\n"
   ]
  },
  {
   "cell_type": "code",
   "execution_count": 23,
   "id": "6b23eb4e-8b4c-4ae6-8a6e-236ff828fcfa",
   "metadata": {},
   "outputs": [
    {
     "name": "stdout",
     "output_type": "stream",
     "text": [
      "match_1.gourp(1)->ccty\n",
      "match_1.start(1)->4\n",
      "match_1.end(1)->8\n",
      "match_1.span(1)->(4, 8)\n",
      "match_2.group(1)->ccty\n",
      "match_2.group(2)->com\n"
     ]
    }
   ],
   "source": [
    "match_1=re.match(r'www\\.(.*)\\..{3}','www.ccty.com')\n",
    "print(\"match_1.gourp(1)->{}\".format(match_1.group(1)))\n",
    "print(\"match_1.start(1)->{}\".format(match_1.start(1)))\n",
    "print(\"match_1.end(1)->{}\".format(match_1.end(1)))\n",
    "print(\"match_1.span(1)->{}\".format(match_1.span(1)))\n",
    "match_2=re.match(r'www\\.(.*)\\.(.{3})','www.ccty.com')\n",
    "print(\"match_2.group(1)->{}\".format(match_2.group(1)))\n",
    "print(\"match_2.group(2)->{}\".format(match_2.group(2)))\n"
   ]
  },
  {
   "cell_type": "code",
   "execution_count": 24,
   "id": "bae5c77d-bf1f-4eab-ac3c-7e39e03392d5",
   "metadata": {},
   "outputs": [
    {
     "name": "stdout",
     "output_type": "stream",
     "text": [
      "lst_1=[30, 33, 36, 39]\n",
      "_______________________________________________________\n",
      "for i in lst_1:\n",
      "30\n",
      "33\n",
      "36\n",
      "39\n",
      "for i in range(len(lst_1)):\n",
      "idx=0,val=30\n",
      "idx=1,val=33\n",
      "idx=2,val=36\n",
      "idx=3,val=39\n",
      "+++++++++++++++++++++++++++++++++++++++++++++++++++++++\n",
      "dic_4={'a': 3, 'b': 5, 'c': 7, 'd': 1}\n",
      "_______________________________________________________\n",
      "for k in dic_4:\n",
      "a\n",
      "b\n",
      "c\n",
      "d\n",
      "for k,v in dic_4.items():\n",
      "key=a,val=3\n",
      "key=b,val=5\n",
      "key=c,val=7\n",
      "key=d,val=1\n"
     ]
    }
   ],
   "source": [
    "lst_1=list(range(30,41,3))\n",
    "print(\"lst_1={}\".format(lst_1))\n",
    "print(\"_\"*55)\n",
    "print(\"for i in lst_1:\")\n",
    "for i in lst_1:\n",
    "    print(i)\n",
    "print(\"for i in range(len(lst_1)):\")\n",
    "for i in range(len(lst_1)):\n",
    "    print(\"idx={},val={}\".format(i,lst_1[i]))\n",
    "print(\"+\"*55)   \n",
    "dic_4=dict(a=3,b=5,c=7,d=1)\n",
    "print(\"dic_4={}\".format(dic_4))\n",
    "print(\"_\"*55)\n",
    "print(\"for k in dic_4:\")\n",
    "for k in dic_4:\n",
    "    print(k)\n",
    "print(\"for k,v in dic_4.items():\")\n",
    "for k,v in dic_4.items():\n",
    "    print(\"key={},val={}\".format(k,v))\n"
   ]
  },
  {
   "cell_type": "code",
   "execution_count": 27,
   "id": "2866bdf7-3573-4bd6-aa0c-965a6c6f1fd3",
   "metadata": {},
   "outputs": [
    {
     "name": "stdout",
     "output_type": "stream",
     "text": [
      "x=99\n",
      "x=119\n",
      "x=139\n",
      "x=159\n",
      "x=179\n",
      "x=199\n",
      "x=219\n",
      "x=239\n",
      "x=259\n",
      "x=279\n",
      "x=299\n",
      "x=319\n",
      "x=339\n",
      "x=359\n",
      "x=379\n",
      "x=399\n",
      "x=419\n",
      "x=439\n",
      "x=459\n",
      "x=479\n",
      "x=499\n",
      "x=519\n",
      "x=539\n",
      "x=559\n",
      "x=579\n",
      "x=599\n",
      "x=619\n",
      "x=639\n",
      "x=659\n",
      "x=679\n",
      "x=699\n",
      "x=719\n",
      "x=739\n",
      "x=759\n",
      "x=779\n",
      "x=799\n",
      "x=819\n",
      "x=839\n",
      "x=859\n",
      "x=879\n",
      "x=899\n",
      "x=919\n",
      "x=939\n",
      "x=959\n",
      "x=979\n",
      "x=999\n"
     ]
    }
   ],
   "source": [
    "x=99\n",
    "while x<=999:\n",
    "    print(\"x={}\".format(x))\n",
    "    x+=20 #增量赋值; x*=3     \n"
   ]
  },
  {
   "cell_type": "code",
   "execution_count": 28,
   "id": "7fe0d2f2-fcb7-4edd-8b39-131b3dd47f82",
   "metadata": {},
   "outputs": [
    {
     "name": "stdout",
     "output_type": "stream",
     "text": [
      "x=2\n",
      "x=13\n",
      "x=24\n",
      "x=35\n",
      "x=46\n",
      "x=57\n",
      "sys.maxsize=9223372036854775807\n",
      "i=0\n",
      "i=1\n",
      "i=2\n",
      "i=3\n",
      "i=4\n",
      "i=5\n",
      "i=6\n",
      "i=7\n",
      "i=8\n",
      "i=9\n",
      "i=10\n",
      "i=11\n",
      "i=12\n",
      "i=13\n",
      "i=14\n",
      "i=15\n",
      "i=16\n",
      "i=17\n",
      "i=18\n",
      "i=19\n",
      "i=20\n",
      "i=21\n",
      "i=22\n",
      "i=23\n",
      "i=24\n",
      "i=25\n",
      "i=26\n",
      "i=27\n",
      "i=28\n",
      "i=29\n",
      "i=30\n",
      "i=31\n",
      "i=32\n",
      "i=33\n",
      "i=34\n",
      "i=35\n",
      "i=36\n",
      "i=37\n",
      "i=38\n",
      "i=39\n"
     ]
    }
   ],
   "source": [
    "x=2\n",
    "while x<=101:\n",
    "    print(\"x={}\".format(x))\n",
    "    x+=11 \n",
    "    if x>=61:break    \n",
    "    \n",
    "import sys\n",
    "print(\"sys.maxsize={}\".format(sys.maxsize))\n",
    "for i in range(sys.maxsize):\n",
    "    print(\"i={}\".format(i))  #?\n",
    "    i+=11\n",
    "    if i>=50:break\n"
   ]
  },
  {
   "cell_type": "code",
   "execution_count": 42,
   "id": "ba6f0165-af5c-4197-89a2-90dcf1c3f217",
   "metadata": {},
   "outputs": [
    {
     "name": "stdout",
     "output_type": "stream",
     "text": [
      "zip_lst=zip(lst_f,lst_g)-><zip object at 0x000001DE0A9C0900>\n",
      "dict(zip_lst)->{2: 'point_f', 3: 'point_g', 4: 'point_h', 5: 'point_i'}\n",
      "2 point_f\n",
      "3 point_g\n",
      "4 point_h\n",
      "5 point_i\n",
      "f=(2, 3, 4, 5),g=('point_f', 'point_g', 'point_h', 'point_i')\n"
     ]
    }
   ],
   "source": [
    "lst_a=[2,3,4,5]\n",
    "lst_b=['point_f','point_g','point_h','point_i']\n",
    "zip_lst=zip(lst_a,lst_b) #The zip() function takes iterables (can be zero or more), aggregates them in a tuple, and returns it.\n",
    "print(\"zip_lst=zip(lst_f,lst_g)->{}\".format(zip_lst))\n",
    "print(\"dict(zip_lst)->{}\".format(dict(zip_lst)))\n",
    "\n",
    "zip_lst=zip(lst_a,lst_b) #迭代对象临时存储，读取完后为空\n",
    "for f,g in zip_lst:\n",
    "    print(f,g)\n",
    "    \n",
    "zip_lst=zip(lst_a,lst_b)\n",
    "f,g=zip(*zip_lst)\n",
    "print(\"f={},g={}\".format(f,g))\n"
   ]
  },
  {
   "cell_type": "code",
   "execution_count": 44,
   "id": "1180660f-9466-49ad-bd82-d3073b993bf6",
   "metadata": {},
   "outputs": [
    {
     "name": "stdout",
     "output_type": "stream",
     "text": [
      "dic_3={0: 'point_a', 1: 'point_b', 2: 'point_c', 3: 'point_d'}\n",
      "dict((a,i) for a,i in enumerate(lst_c))->{0: 'point_a', 1: 'point_b', 2: 'point_c', 3: 'point_d'}\n",
      "__________________________________________________\n",
      "0:2,point_f\n",
      "1:3,point_g\n",
      "2:4,point_h\n",
      "3:5,point_i\n"
     ]
    }
   ],
   "source": [
    "lst_c=['point_a','point_b','point_c','point_d']\n",
    "dic_3={}\n",
    "for idx,value in enumerate(lst_c):\n",
    "    dic_3[idx]=value\n",
    "print(\"dic_3={}\".format(dic_3))\n",
    "print(\"dict((a,i) for a,i in enumerate(lst_c))->{}\".format(dict((a,i) for a,i in enumerate(lst_c)))) #list comprehension\n",
    "print(\"_\"*50)\n",
    "for i,(a,b) in enumerate(zip(lst_a,lst_b)):\n",
    "    print('%d:%s,%s'%(i,a,b))\n"
   ]
  },
  {
   "cell_type": "code",
   "execution_count": 47,
   "id": "f7a5fefe-205f-4d0c-bed0-a6ff7ec957e1",
   "metadata": {},
   "outputs": [
    {
     "name": "stdout",
     "output_type": "stream",
     "text": [
      "[x*x for x in range(4,48,6) if x%2==0]->[16, 100, 256, 484, 784, 1156, 1600, 2116]\n",
      "[(x,y) for x in range(4)for y in range(1)]->[(0, 0), (1, 0), (2, 0), (3, 0)]\n",
      "[(x,y) for x,y in zip(range(5),range(4))]->[(0, 0), (1, 1), (2, 2), (3, 3)]\n",
      "[[a for a in range(1,10,3)],2,3,[b for b in range(59,121,9)],[[c for c in range(999,2100,125)],5,9]]->[[2, 6, 10], 2, 3, [59, 68, 77, 86, 95, 104, 113], [[999, 1124, 1249, 1374, 1499, 1624, 1749, 1874, 1999], 5, 9]]\n",
      "flatten_lst(nested_list)->[2, 6, 10, 2, 3, 59, 68, 77, 86, 95, 104, 113, 999, 1124, 1249, 1374, 1499, 1624, 1749, 1874, 1999, 5, 9]\n"
     ]
    }
   ],
   "source": [
    "print(\"[x*x for x in range(4,48,6) if x%2==0]->{}\".format([x*x for x in range(4,48,6) if x%2==0]))\n",
    "print(\"[(x,y) for x in range(4)for y in range(1)]->{}\".format([(x,y) for x in range(4)for y in range(1)]))\n",
    "print(\"[(x,y) for x,y in zip(range(5),range(4))]->{}\".format([(x,y) for x,y in zip(range(5),range(4))]))\n",
    "nested_list=[[a for a in range(2,12,4)],2,3,[b for b in range(59,121,9)],[[c for c in range(999,2100,125)],5,9]]\n",
    "print(\"[[a for a in range(1,10,3)],2,3,[b for b in range(59,121,9)],[[c for c in range(999,2100,125)],5,9]]->{}\".format(nested_list)) #嵌套列表推导式\n",
    "\n",
    "flatten_lst=lambda lst: [m for n_lst in lst for m in flatten_lst(n_lst)] if type(lst) is list else [lst] #展平列表常用，可以放置到单独的.py文件中调用。lambda函数后文阐述\n",
    "print(\"flatten_lst(nested_list)->{}\".format(flatten_lst(nested_list)))\n"
   ]
  },
  {
   "cell_type": "code",
   "execution_count": 12,
   "id": "638c42fb-d517-45f1-9177-2bf6f245375a",
   "metadata": {},
   "outputs": [
    {
     "name": "stdout",
     "output_type": "stream",
     "text": [
      "Positive but smaller than 6\n"
     ]
    }
   ],
   "source": [
    "x=6\n",
    "if x<0:\n",
    "    print('It is bad.')\n",
    "elif x==0:\n",
    "    print('Equal to zero.')\n",
    "elif 0<x<10:\n",
    "    print('Positive but smaller than 6')\n",
    "else:\n",
    "    print('Positive and larger than or equal to 6.')\n",
    "\n"
   ]
  },
  {
   "cell_type": "code",
   "execution_count": 16,
   "id": "df93c7c1-9443-4575-986d-2544be595700",
   "metadata": {},
   "outputs": [
    {
     "name": "stdout",
     "output_type": "stream",
     "text": [
      "x==y->True\n",
      "x is y->True\n",
      "x==z->False\n",
      "x is z->False\n",
      "x is not y->False\n",
      "x is not z->True\n",
      "id_x:1995115652928;id_y:1995115652928;id_z:1995115680192\n",
      "x=[6, 8],y=[6, 8],z=[3, 6, 9] after del x[2]\n"
     ]
    }
   ],
   "source": [
    "x=y=[6,8,10]\n",
    "z=[3,6,9]\n",
    "print(\"x==y->{}\".format(x==y))\n",
    "print(\"x is y->{}\".format(x is y))\n",
    "print(\"x==z->{}\".format(x==z))\n",
    "print(\"x is z->{}\".format(x is z))\n",
    "print(\"x is not y->{}\".format(x is not y))\n",
    "print(\"x is not z->{}\".format(x is not z))\n",
    "print(\"id_x:{};id_y:{};id_z:{}\".format(id(x),id(y),id(z))) #Memory Location\n",
    "\n",
    "del x[2]\n",
    "print(\"x={},y={},z={} after del x[2]\".format(x,y,z))\n"
   ]
  },
  {
   "cell_type": "code",
   "execution_count": 17,
   "id": "46fedeb2-7bb3-4082-af4c-7f21c875b17d",
   "metadata": {},
   "outputs": [
    {
     "name": "stdout",
     "output_type": "stream",
     "text": [
      "3 in x->False\n",
      "7 in x->False\n",
      "9 not in x->True\n",
      "10 not in x->False\n"
     ]
    }
   ],
   "source": [
    "x=[6,8,10]\n",
    "print(\"3 in x->{}\".format(3 in x))\n",
    "print(\"7 in x->{}\".format(7 in x))\n",
    "print(\"9 not in x->{}\".format(9 not in x))\n",
    "print(\"10 not in x->{}\".format(10 not in x))\n"
   ]
  },
  {
   "cell_type": "code",
   "execution_count": 22,
   "id": "a4650ea3-795e-4a6b-915b-43dc58181032",
   "metadata": {},
   "outputs": [
    {
     "name": "stdout",
     "output_type": "stream",
     "text": [
      "b<c<a kidding!!!\n"
     ]
    }
   ],
   "source": [
    "a,b,c=10,16,20\n",
    "if c<a and c>b:\n",
    "    print('b<c<a')\n",
    "else: print('b<c<a kidding!!!')\n"
   ]
  },
  {
   "cell_type": "code",
   "execution_count": 25,
   "id": "794037b2-d166-42a0-ab8b-b43cbeee887b",
   "metadata": {},
   "outputs": [
    {
     "name": "stdout",
     "output_type": "stream",
     "text": [
      "simple_func(4,9)->25\n",
      "simple_func(6,1)->37\n",
      "simple_func(y=9,x=4)->25\n"
     ]
    }
   ],
   "source": [
    "def simple_func(x,y):#定义函数\n",
    "    z=pow(x,2)+y\n",
    "    return z\n",
    "print(\"simple_func(4,9)->{}\".format(simple_func(4,9)))\n",
    "print(\"simple_func(6,1)->{}\".format(simple_func(6,1)))\n",
    "print(\"simple_func(y=9,x=4)->{}\".format(simple_func(y=9,x=4)))\n"
   ]
  },
  {
   "cell_type": "code",
   "execution_count": 26,
   "id": "9fd7e281-8e3b-4305-ba59-17c5032fc1c7",
   "metadata": {},
   "outputs": [
    {
     "name": "stdout",
     "output_type": "stream",
     "text": [
      "fibonacci(3,6)->[3, 5, 8, 13, 21, 34]\n",
      "fibonacci(5,7)->[5, 8, 13, 21, 34, 55, 89]\n"
     ]
    }
   ],
   "source": [
    "def fibonacci(s,count): #定义fib函数\n",
    "    fib_lst=[0,1]\n",
    "    fib_part=[]\n",
    "    if s==0 or s==1:\n",
    "        fib_part[:]=fib_lst\n",
    "        for i in range(count-2):\n",
    "            fib_part.append(fib_part[-1]+fib_part[-2])\n",
    "    else:\n",
    "        while True:\n",
    "            fib_lst[:]=[fib_lst[1],fib_lst[0]+fib_lst[1]]\n",
    "            #print(fib_lst)\n",
    "            if fib_lst[1]-s>=0:break\n",
    "        fib_part[:]=fib_lst\n",
    "        if abs(fib_lst[0]-s)>=abs(fib_lst[1]-s):\n",
    "            for i in range(count-1):\n",
    "                fib_part.append(fib_part[-1]+fib_part[-2])\n",
    "            fib_part.pop(0)\n",
    "        else:\n",
    "            for i in range(count-2):\n",
    "                fib_part.append(fib_part[-1]+fib_part[-2])\n",
    "    return fib_part\n",
    "\n",
    "print(\"fibonacci(3,6)->{}\".format(fibonacci(3,6)))\n",
    "print(\"fibonacci(5,7)->{}\".format(fibonacci(5,7)))\n"
   ]
  },
  {
   "cell_type": "code",
   "execution_count": 34,
   "id": "5808f350-8ab0-4c02-bc5a-b0b517070707",
   "metadata": {},
   "outputs": [
    {
     "name": "stdout",
     "output_type": "stream",
     "text": [
      "48\n"
     ]
    }
   ],
   "source": [
    "def factorial(n):#递归\n",
    "    if n==2:\n",
    "        return 2\n",
    "    else:\n",
    "        return n*factorial(n-2)\n",
    "print(factorial(6))\n"
   ]
  },
  {
   "cell_type": "code",
   "execution_count": 40,
   "id": "eed1bc39-757a-448a-ad19-95e65f6683b6",
   "metadata": {},
   "outputs": [
    {
     "name": "stdout",
     "output_type": "stream",
     "text": [
      "tiger.run->hunting\n",
      "tiger.eat()->\n",
      "Aaaah...\n",
      "tiger.eat()->\n",
      "No.Thanks!\n",
      "tiger.sing()->\n",
      "Squawk!\n"
     ]
    }
   ],
   "source": [
    "#3.6定义\n",
    "class tiger:\n",
    "    run='hunting' #美 /wɜːr/ \n",
    "    def __init__(self):\n",
    "        self.hungry=True\n",
    "    def eat(self):\n",
    "        if self.hungry:\n",
    "            print('Aaaah...')\n",
    "            self.hungry=False\n",
    "        else:\n",
    "            print('No.Thanks!')\n",
    "\n",
    "class Felidae(tiger):  #/'æpədədi:/\n",
    "    def __init__(self):\n",
    "        super(Felidae,self).__init__()\n",
    "        self.sound='Squawk!' #美 /skwɔːk/ \n",
    "    def sing(self):\n",
    "        print(self.sound)\n",
    "swift=Felidae()\n",
    "print(\"tiger.run->{}\".format(swift.run))\n",
    "print(\"tiger.eat()->\")\n",
    "swift.eat()\n",
    "print(\"tiger.eat()->\")\n",
    "swift.eat()\n",
    "print(\"tiger.sing()->\")\n",
    "swift.sing()\n"
   ]
  },
  {
   "cell_type": "code",
   "execution_count": 49,
   "id": "754f322d-78be-4627-b211-09f4d7047502",
   "metadata": {},
   "outputs": [
    {
     "name": "stdout",
     "output_type": "stream",
     "text": [
      "blacktiger.eating()->\n",
      "Squawk!\n",
      "scarcetiger.eating()->\n",
      "Squawk!\n"
     ]
    }
   ],
   "source": [
    "blacktiger=Felidae()\n",
    "scarcetiger=Felidae()\n",
    "print(\"blacktiger.eating()->\")\n",
    "blacktiger.sing()\n",
    "print(\"scarcetiger.eating()->\")\n",
    "scarcetiger.sing()\n"
   ]
  },
  {
   "cell_type": "code",
   "execution_count": 50,
   "id": "861fa3b6-a410-4095-8406-dc97345a06fc",
   "metadata": {},
   "outputs": [
    {
     "name": "stdout",
     "output_type": "stream",
     "text": [
      "blacktiger.run->hunting\n",
      "blacktiger.fly after redefining the blackswif's attribute->hunting\n",
      "scarcetiger.run->hunting\n"
     ]
    }
   ],
   "source": [
    "print(\"blacktiger.run->{}\".format(blacktiger.run))\n",
    "blackswift.run='humming' #重新赋予实例的属性\n",
    "print(\"blacktiger.fly after redefining the blackswif's attribute->{}\".format(blacktiger.run))\n",
    "print(\"scarcetiger.run->{}\".format(scarcetiger.run))\n"
   ]
  },
  {
   "cell_type": "code",
   "execution_count": 57,
   "id": "9bbd99a3-e951-4c16-a088-a348a39ca07c",
   "metadata": {},
   "outputs": [],
   "source": [
    "#3.6.2 迭代+迭代器\n",
    "class Fibs():\n",
    "    def __init__(self):\n",
    "        self.a=0\n",
    "        self.b=1\n",
    "    def next(self):  #实现迭代器的next方法\n",
    "        self.a,self.b=self.b,self.a+self.b\n",
    "        return self.a\n",
    "    def __iter__(self): #实现迭代方法\n",
    "        return self\n"
   ]
  },
  {
   "cell_type": "code",
   "execution_count": 60,
   "id": "f5646402-23ae-48e0-ac73-c8b4e78d4ce6",
   "metadata": {},
   "outputs": [
    {
     "name": "stdout",
     "output_type": "stream",
     "text": [
      "fa=[1, 1, 2, 3, 5, 8, 13, 21, 34, 55]\n",
      "fb=[89, 144, 233, 377]\n"
     ]
    }
   ],
   "source": [
    "f=Fibs()\n",
    "fa=[]\n",
    "fb=[]\n",
    "for i in range(10):\n",
    "    fa.append(f.next())\n",
    "print(\"fa={}\".format(fa))\n",
    "for i in range(4):\n",
    "    fb.append(f.next())\n",
    "print(\"fb={}\".format(fb))\n"
   ]
  },
  {
   "cell_type": "code",
   "execution_count": 67,
   "id": "9cef7e18-c4e6-444b-b3ca-d28eda3789f4",
   "metadata": {},
   "outputs": [
    {
     "name": "stdout",
     "output_type": "stream",
     "text": [
      "lst_d=[3, 5, 7, 9, 11, 13, 15, 17, 19]\n",
      "__________________________________________________\n",
      "next(lst_iter)->3\n",
      "next(lst_iter)->5\n",
      "7\n",
      "9\n",
      "11\n",
      "13\n",
      "15\n",
      "17\n",
      "19\n"
     ]
    }
   ],
   "source": [
    "lst_d=list(range(3,20,2))\n",
    "print(\"lst_d={}\".format(lst_d))\n",
    "print(\"_\"*50)\n",
    "lst_iter=iter(lst_d)\n",
    "print(\"next(lst_iter)->{}\".format(next(lst_iter)))\n",
    "print(\"next(lst_iter)->{}\".format(next(lst_iter)))\n",
    "for i in lst_iter:\n",
    "    print(i)\n",
    "\n"
   ]
  },
  {
   "cell_type": "code",
   "execution_count": 69,
   "id": "f25b2801-c0ed-4dcb-93c8-f3c94f15df36",
   "metadata": {},
   "outputs": [
    {
     "name": "stdout",
     "output_type": "stream",
     "text": [
      "lst_e=[[2, 4, 6, 8, 10, 12, 14], [2, 5, 56, [0, 1, 2, 3, 4], 78]]\n",
      "_____________________________________________\n",
      "flatten_lst=[2, 4, 6, 8, 10, 12, 14, 2, 5, 56, 0, 1, 2, 3, 4, 78]\n"
     ]
    }
   ],
   "source": [
    "#3.6.3 生成器(generator)\n",
    "lst_e=[list(range(2,15,2)),[2,5,56,list(range(5)),78]]\n",
    "print(\"lst_e={}\".format(lst_e))\n",
    "print(\"_\"*45)\n",
    "flatten_lst=[]\n",
    "for v_1 in lst_e:\n",
    "    try:\n",
    "        for v_2 in v_1:\n",
    "            try:\n",
    "                for v_3 in v_2:\n",
    "                    flatten_lst.append(v_3)\n",
    "            except TypeError:\n",
    "                flatten_lst.append(v_2)\n",
    "    except TypeError:\n",
    "        flatten_lst.append(v_1)\n",
    "print(\"flatten_lst={}\".format(flatten_lst))\n"
   ]
  },
  {
   "cell_type": "code",
   "execution_count": 71,
   "id": "2c88a791-2fcc-4bee-a254-2cc81ac89e3a",
   "metadata": {},
   "outputs": [
    {
     "name": "stdout",
     "output_type": "stream",
     "text": [
      "list(flatten(lst_e))->[2, 4, 6, 8, 10, 12, 14, 2, 5, 56, 0, 1, 2, 3, 4, 78]\n"
     ]
    }
   ],
   "source": [
    "def flatten(lst): #定义生成器（包含yield语句的函数）\n",
    "    try: #使用语句try\\except捕捉异常        \n",
    "        for n_lst in lst:  #循环列表            \n",
    "            for m in flatten(n_lst): #使用递归的方法循环子列表                \n",
    "                yield m  #使用yield语句，每次产生多个值，当返回一个值时函数就会被冻结，当再次激活时，从停止的那点开始执行\n",
    "    except TypeError:  #当函数被告知展开一个元素时，引发TypeError异常，生成器返回一个值\n",
    "        yield lst #生成器返回引发异常的一个值        \n",
    "print(\"list(flatten(lst_e))->{}\".format(list(flatten(lst_e))))"
   ]
  },
  {
   "cell_type": "code",
   "execution_count": 72,
   "id": "0e6d38ab-e88b-4291-8a6a-19477b6fb614",
   "metadata": {},
   "outputs": [],
   "source": [
    "flatten_lst=lambda lst:[m for n_lst in lst for m in flatten_lst(n_lst)] if type(lst) is list else [lst] #lambda 生成器方法\n",
    "\n"
   ]
  },
  {
   "cell_type": "code",
   "execution_count": 73,
   "id": "0a8d54c2-4cec-4d0b-b196-41c45635e0b2",
   "metadata": {},
   "outputs": [
    {
     "name": "stdout",
     "output_type": "stream",
     "text": [
      "next(n)->num#0\n",
      "next(n)->num#1\n",
      "next(n)->num#2\n",
      "[next(n) for i in range(5)]->['num#3', 'num#4', 'num#5', 'num#6', 'num#7', 'num#8']\n"
     ]
    }
   ],
   "source": [
    "def infinite():\n",
    "    n=0\n",
    "    while True:\n",
    "        yield 'num#'+str(n)\n",
    "        n+=1\n",
    "n=infinite()\n",
    "print(\"next(n)->{}\".format(next(n)))\n",
    "print(\"next(n)->{}\".format(next(n)))\n",
    "print(\"next(n)->{}\".format(next(n)))\n",
    "print(\"[next(n) for i in range(5)]->{}\".format([next(n) for i in range(6)]))\n"
   ]
  },
  {
   "cell_type": "code",
   "execution_count": 41,
   "id": "ebb200ed-ec3a-4cc5-bc60-7d2fd407d8c0",
   "metadata": {},
   "outputs": [
    {
     "name": "stdout",
     "output_type": "stream",
     "text": [
      "f_convert_a('3.1415926')->3.1415926\n",
      "f_convert_a('string')->string\n",
      "f_convert_a(3，4，9)->(3, 4, 9)\n"
     ]
    }
   ],
   "source": [
    "#3.7.1 try/except捕捉异常\n",
    "\n",
    "def f_convert_a(x):\n",
    "    try:\n",
    "        return float(x)\n",
    "    except:\n",
    "        return x\n",
    "print(\"f_convert_a('3.1415926')->{}\".format(f_convert_a('3.1415926')))    \n",
    "print(\"f_convert_a('string')->{}\".format(f_convert_a('string')))  \n",
    "print(\"f_convert_a(3，4，9)->{}\".format(f_convert_a((3,4,9))))  \n"
   ]
  },
  {
   "cell_type": "code",
   "execution_count": 42,
   "id": "11a415d1-831b-46cb-90d0-beb639385f5c",
   "metadata": {},
   "outputs": [
    {
     "name": "stdout",
     "output_type": "stream",
     "text": [
      "f_convert_c('3.6666')->3.6666\n",
      "f_convert_c('string')->string\n",
      "(4, 6, 10) TypeError\n",
      "f_convert_c(4,6,10)->None\n"
     ]
    }
   ],
   "source": [
    "#使用多条except子句可以指定多个异常处理代码块：\n",
    "def f_convert_c(x):\n",
    "    try:\n",
    "        return float(x)\n",
    "    except ValueError:\n",
    "        return x\n",
    "    except TypeError:\n",
    "        print(x,'TypeError')\n",
    "print(\"f_convert_c('3.6666')->{}\".format(f_convert_c('3.6666')))    \n",
    "print(\"f_convert_c('string')->{}\".format(f_convert_c('string')))  \n",
    "print(\"f_convert_c(4,6,10)->{}\".format(f_convert_c((4,6,10))))         \n"
   ]
  },
  {
   "cell_type": "code",
   "execution_count": 43,
   "id": "eec9d770-f026-4260-b885-91519d568f49",
   "metadata": {},
   "outputs": [
    {
     "name": "stdout",
     "output_type": "stream",
     "text": [
      "f_convert_d('6.5912')->6.5912\n",
      "string ValueError or TypeError\n",
      "f_convert_d('string')->None\n",
      "(8, 5, 7) ValueError or TypeError\n",
      "f_convert_d(8,5,7)->None\n"
     ]
    }
   ],
   "source": [
    "def f_convert_d(x):\n",
    "    try:\n",
    "        return float(x)\n",
    "    except (ValueError,TypeError):\n",
    "        print(x,'ValueError or TypeError')\n",
    "print(\"f_convert_d('6.5912')->{}\".format(f_convert_d('6.5912')))    \n",
    "print(\"f_convert_d('string')->{}\".format(f_convert_d('string')))  \n",
    "print(\"f_convert_d(8,5,7)->{}\".format(f_convert_d((8,5,7)))) \n"
   ]
  },
  {
   "cell_type": "code",
   "execution_count": 44,
   "id": "cc3627a8-2e0d-4320-8292-01aeb2feb948",
   "metadata": {},
   "outputs": [
    {
     "name": "stdout",
     "output_type": "stream",
     "text": [
      "f_convert_e('6248.2254')->6248.2254\n",
      "string could not convert string to float: 'string'\n",
      "f_convert_e('string')->None\n",
      "(1, 65, 6, 7) float() argument must be a string or a number, not 'tuple'\n",
      "f_convert_e(1,65,6,7)->None\n"
     ]
    }
   ],
   "source": [
    "def f_convert_e(x):\n",
    "    try:\n",
    "        return float(x)\n",
    "    except (ValueError,TypeError) as e:\n",
    "        return print(x,e)\n",
    "print(\"f_convert_e('6248.2254')->{}\".format(f_convert_e('6248.2254')))    \n",
    "print(\"f_convert_e('string')->{}\".format(f_convert_e('string')))  \n",
    "print(\"f_convert_e(1,65,6,7)->{}\".format(f_convert_e((1,65,6,7))))    \n"
   ]
  },
  {
   "cell_type": "code",
   "execution_count": 45,
   "id": "f827a5ab-3f42-483b-b84d-622b79bc2ffa",
   "metadata": {},
   "outputs": [
    {
     "name": "stdout",
     "output_type": "stream",
     "text": [
      "f_convert_f('651.948')->651.948\n",
      "f_convert_f('leo')->None\n",
      "f_convert_f(6,45,221)->None\n"
     ]
    }
   ],
   "source": [
    "#使用pass语句可以忽略异常\n",
    "def f_convert_f(x):\n",
    "    try:\n",
    "        return float(x)\n",
    "    except (ValueError,TypeError) as e:\n",
    "        pass\n",
    "print(\"f_convert_f('651.948')->{}\".format(f_convert_f('651.948')))    \n",
    "print(\"f_convert_f('leo')->{}\".format(f_convert_f('leo')))  \n",
    "print(\"f_convert_f(6,45,221)->{}\".format(f_convert_f((6,45,221))))     \n"
   ]
  },
  {
   "cell_type": "code",
   "execution_count": 46,
   "id": "ebbced60-dc05-4c7d-ba39-d035371315da",
   "metadata": {},
   "outputs": [
    {
     "name": "stdout",
     "output_type": "stream",
     "text": [
      "Unable to open ./data/tryException.txt :[Errno 2] No such file or directory: './data/tryException.txt'\n",
      "\n",
      "tryException_content->None\n",
      "Unable to open ./data/tryException_.txt :[Errno 2] No such file or directory: './data/tryException_.txt'\n",
      "\n"
     ]
    }
   ],
   "source": [
    "#try语句也支持else子句，但是不需跟在最后一个except子句的后面。如果try代码块中的程序没有引发异常，将会执行else子句中的程序：\n",
    "def f_open_a(fp):\n",
    "    try:\n",
    "        f=open(fp,'r')\n",
    "    except IOError as e:\n",
    "        print('Unable to open',fp,':%s\\n' %e)\n",
    "    else:\n",
    "        data=f.read()\n",
    "        f.close\n",
    "        return data\n",
    "tryException_content=f_open_a(\"./data/tryException.txt\")   \n",
    "print(\"tryException_content->{}\".format(tryException_content))\n",
    "f_open_a(\"./data/tryException_.txt\")\n"
   ]
  },
  {
   "cell_type": "code",
   "execution_count": 47,
   "id": "192f3084-2a19-4290-84fc-d83663b42486",
   "metadata": {},
   "outputs": [
    {
     "name": "stdout",
     "output_type": "stream",
     "text": [
      "Unable to open ./data/tryException.txt :[Errno 2] No such file or directory: './data/tryException.txt'\n",
      "\n",
      "done!\n"
     ]
    }
   ],
   "source": [
    "#finally语句为try代码块中的代码定义了结束操作，finally子句不是用于捕捉错误，而是提供一些程序代码，无论程序是否出错误都需要执行该代码。如果没有引发异常，finally子句的代码将在try代码块中的代码执行完毕后立即执行；如果引发了异常，控制权首先传递给finally子句的第一条语句。这段代码执行完毕后，将重新引发异常然后交由另一个异常处理程序进行处理。\n",
    "def f_open_b(fp):\n",
    "    try:\n",
    "        f=open(fp,'r')\n",
    "    except IOError as e:\n",
    "        print('Unable to open',fp,':%s\\n' %e)\n",
    "    else:\n",
    "        data=f.read()\n",
    "        f.close()\n",
    "        return data\n",
    "    finally:\n",
    "        print('done!')\n",
    "f_open_b(\"./data/tryException.txt\")        \n"
   ]
  }
 ],
 "metadata": {
  "kernelspec": {
   "display_name": "Python 3 (ipykernel)",
   "language": "python",
   "name": "python3"
  },
  "language_info": {
   "codemirror_mode": {
    "name": "ipython",
    "version": 3
   },
   "file_extension": ".py",
   "mimetype": "text/x-python",
   "name": "python",
   "nbconvert_exporter": "python",
   "pygments_lexer": "ipython3",
   "version": "3.8.12"
  }
 },
 "nbformat": 4,
 "nbformat_minor": 5
}
